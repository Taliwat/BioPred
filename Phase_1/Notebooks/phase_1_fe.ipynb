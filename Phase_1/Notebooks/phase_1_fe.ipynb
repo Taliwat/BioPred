{
  "cells": [
    {
      "cell_type": "markdown",
      "metadata": {},
      "source": [
        "# **BioPred Phase 1 Feature Engineering**\n",
        "\n",
        "In this portion of the project, we will look to:\n",
        "\n",
        "1. Take our notebook from our EDA phase and edit it, creating new features using the power of RDKit.\n",
        "\n",
        "2. Encode our canonical_smiles feature using Morgan Fingerprints so they are able to be read as numerical, and so we can then use them in our models.\n",
        "\n",
        "3. Take our categorical features and encode them separately, using One-Hot or similar so they are represented appropriately in the dataframe."
      ]
    },
    {
      "cell_type": "markdown",
      "metadata": {},
      "source": [
        "#### First as we have done in other notebooks let's import our libraries and read in our current eda_df file, saving it to another variable so we can work on it without deviating from the original data file still in progress."
      ]
    },
    {
      "cell_type": "code",
      "execution_count": 2,
      "metadata": {},
      "outputs": [],
      "source": [
        "# List libraries needed for this notebook.\n",
        "import pandas as pd\n",
        "import numpy as np\n",
        "import matplotlib.pyplot as plt\n",
        "%matplotlib inline\n",
        "import seaborn as sns\n",
        "from rdkit import Chem, DataStructs\n",
        "from rdkit.Chem import Descriptors, GraphDescriptors, AllChem\n",
        "from rdkit.Chem.rdFingerprintGenerator import GetMorganGenerator\n",
        "from rdkit.DataStructs import BitVectToText\n",
        "from sklearn.neighbors import KDTree\n",
        "from sklearn.feature_selection import RFECV\n",
        "from xgboost import XGBRegressor\n",
        "from sklearn.model_selection import KFold\n",
        "from statsmodels.stats.outliers_influence import variance_inflation_factor\n",
        "from sklearn.feature_selection import mutual_info_regression\n",
        "from tqdm import tqdm\n",
        "import matplotlib.pyplot as plt\n",
        "%matplotlib inline\n",
        "\n",
        "from sklearn.decomposition import PCA\n",
        "from sklearn.preprocessing import StandardScaler"
      ]
    },
    {
      "cell_type": "code",
      "execution_count": 3,
      "metadata": {},
      "outputs": [
        {
          "name": "stdout",
          "output_type": "stream",
          "text": [
            "(343659, 13)\n"
          ]
        },
        {
          "data": {
            "text/html": [
              "<div>\n",
              "<style scoped>\n",
              "    .dataframe tbody tr th:only-of-type {\n",
              "        vertical-align: middle;\n",
              "    }\n",
              "\n",
              "    .dataframe tbody tr th {\n",
              "        vertical-align: top;\n",
              "    }\n",
              "\n",
              "    .dataframe thead th {\n",
              "        text-align: right;\n",
              "    }\n",
              "</style>\n",
              "<table border=\"1\" class=\"dataframe\">\n",
              "  <thead>\n",
              "    <tr style=\"text-align: right;\">\n",
              "      <th></th>\n",
              "      <th>canonical_smiles</th>\n",
              "      <th>full_mwt</th>\n",
              "      <th>alogp</th>\n",
              "      <th>psa</th>\n",
              "      <th>hba_lipinski</th>\n",
              "      <th>hbd_lipinski</th>\n",
              "      <th>aromatic_rings</th>\n",
              "      <th>heavy_atoms</th>\n",
              "      <th>rtb</th>\n",
              "      <th>molecular_species</th>\n",
              "      <th>min_standard_value</th>\n",
              "      <th>activity_count</th>\n",
              "      <th>tid</th>\n",
              "    </tr>\n",
              "  </thead>\n",
              "  <tbody>\n",
              "    <tr>\n",
              "      <th>0</th>\n",
              "      <td>O=C1O/C(=C/Br)CCC1c1cccc2ccccc12</td>\n",
              "      <td>317.18</td>\n",
              "      <td>4.50</td>\n",
              "      <td>26.30</td>\n",
              "      <td>2</td>\n",
              "      <td>0</td>\n",
              "      <td>2</td>\n",
              "      <td>19</td>\n",
              "      <td>1</td>\n",
              "      <td>NEUTRAL</td>\n",
              "      <td>4.615121</td>\n",
              "      <td>1.098612</td>\n",
              "      <td>11934</td>\n",
              "    </tr>\n",
              "    <tr>\n",
              "      <th>1</th>\n",
              "      <td>O=C1O/C(=C/I)CCC1c1cccc2ccccc12</td>\n",
              "      <td>364.18</td>\n",
              "      <td>4.54</td>\n",
              "      <td>26.30</td>\n",
              "      <td>2</td>\n",
              "      <td>0</td>\n",
              "      <td>2</td>\n",
              "      <td>19</td>\n",
              "      <td>1</td>\n",
              "      <td>NEUTRAL</td>\n",
              "      <td>3.433987</td>\n",
              "      <td>0.693147</td>\n",
              "      <td>11934</td>\n",
              "    </tr>\n",
              "    <tr>\n",
              "      <th>2</th>\n",
              "      <td>C#C/C=C1\\CCC(c2cccc3ccccc23)C(=O)O1</td>\n",
              "      <td>262.31</td>\n",
              "      <td>3.78</td>\n",
              "      <td>26.30</td>\n",
              "      <td>2</td>\n",
              "      <td>0</td>\n",
              "      <td>2</td>\n",
              "      <td>20</td>\n",
              "      <td>1</td>\n",
              "      <td>NEUTRAL</td>\n",
              "      <td>4.564348</td>\n",
              "      <td>0.693147</td>\n",
              "      <td>11934</td>\n",
              "    </tr>\n",
              "    <tr>\n",
              "      <th>3</th>\n",
              "      <td>COc1cc2nc(N3CCN(C(=O)C4CC4c4ccccc4)CC3)nc(N)c2...</td>\n",
              "      <td>433.51</td>\n",
              "      <td>2.68</td>\n",
              "      <td>93.81</td>\n",
              "      <td>8</td>\n",
              "      <td>2</td>\n",
              "      <td>3</td>\n",
              "      <td>32</td>\n",
              "      <td>5</td>\n",
              "      <td>NEUTRAL</td>\n",
              "      <td>0.412110</td>\n",
              "      <td>0.693147</td>\n",
              "      <td>104304</td>\n",
              "    </tr>\n",
              "    <tr>\n",
              "      <th>4</th>\n",
              "      <td>COc1cc2nc(N3CCN(S(=O)(=O)c4cccs4)CC3)nc(N)c2cc1OC</td>\n",
              "      <td>435.53</td>\n",
              "      <td>1.80</td>\n",
              "      <td>110.88</td>\n",
              "      <td>9</td>\n",
              "      <td>2</td>\n",
              "      <td>3</td>\n",
              "      <td>29</td>\n",
              "      <td>5</td>\n",
              "      <td>NEUTRAL</td>\n",
              "      <td>3.551914</td>\n",
              "      <td>0.693147</td>\n",
              "      <td>104304</td>\n",
              "    </tr>\n",
              "  </tbody>\n",
              "</table>\n",
              "</div>"
            ],
            "text/plain": [
              "                                    canonical_smiles  full_mwt  alogp     psa  \\\n",
              "0                   O=C1O/C(=C/Br)CCC1c1cccc2ccccc12    317.18   4.50   26.30   \n",
              "1                    O=C1O/C(=C/I)CCC1c1cccc2ccccc12    364.18   4.54   26.30   \n",
              "2                C#C/C=C1\\CCC(c2cccc3ccccc23)C(=O)O1    262.31   3.78   26.30   \n",
              "3  COc1cc2nc(N3CCN(C(=O)C4CC4c4ccccc4)CC3)nc(N)c2...    433.51   2.68   93.81   \n",
              "4  COc1cc2nc(N3CCN(S(=O)(=O)c4cccs4)CC3)nc(N)c2cc1OC    435.53   1.80  110.88   \n",
              "\n",
              "   hba_lipinski  hbd_lipinski  aromatic_rings  heavy_atoms  rtb  \\\n",
              "0             2             0               2           19    1   \n",
              "1             2             0               2           19    1   \n",
              "2             2             0               2           20    1   \n",
              "3             8             2               3           32    5   \n",
              "4             9             2               3           29    5   \n",
              "\n",
              "  molecular_species  min_standard_value  activity_count     tid  \n",
              "0           NEUTRAL            4.615121        1.098612   11934  \n",
              "1           NEUTRAL            3.433987        0.693147   11934  \n",
              "2           NEUTRAL            4.564348        0.693147   11934  \n",
              "3           NEUTRAL            0.412110        0.693147  104304  \n",
              "4           NEUTRAL            3.551914        0.693147  104304  "
            ]
          },
          "execution_count": 3,
          "metadata": {},
          "output_type": "execute_result"
        }
      ],
      "source": [
        "# Establish file path to read in eda_df for usage here.\n",
        "file_path = \"/home/azureuser/cloudfiles/code/Users/kalpha1865/BioPred/Data/df_files/eda_1_phase_1.parquet\"\n",
        "fe_df = pd.read_parquet(file_path)\n",
        "\n",
        "print(fe_df.shape)\n",
        "fe_df.head()"
      ]
    },
    {
      "cell_type": "markdown",
      "metadata": {},
      "source": [
        "#### So we will now look to expand our features using RDKit.  It comes with some built-in features we can use with our canonical_smiles data to enhance our dataset, providing new looks into our data.  We will then go back to our EDA ntbk with this and examine how this effects our data and our target. "
      ]
    },
    {
      "cell_type": "markdown",
      "metadata": {},
      "source": [
        "#### A lot of the features we already have in our current dataframe were provided by RDKit originally, so it is a matter of obtaining ones to be complementary to our goals.  Let's take a look at some of the features that can be added:\n",
        "\n",
        "**Molecular Complexity (BertzCT, BalabanJ)**:\n",
        "Complexity often correlates with unique molecular interactions.\n",
        "\n",
        "**Shape Descriptors (FractionCSP3, Kappa Indices)**:\n",
        "Shape and symmetry are linked to drug-likeness.\n",
        "\n",
        "**Surface Area (LabuteASA)**:\n",
        "Surface area impacts molecular accessbility to biological targets.\n",
        "\n",
        "**HallKierAlpha**:\n",
        "Measures molecular branching, often correlating with structural diversity and bioactivity.\n",
        "\n",
        "**PEOE_VSA**:\n",
        "Key for understanding electrostatic interactions.\n",
        "\n",
        "**Kappa1, Kappa2, Kappa3**:\n",
        "Quantify molecular shape and symmetry.\n",
        "\n",
        "**ChiX indices (Chi0, Chi1)**:\n",
        "Molecular connectivity indices for structural diversity.\n"
      ]
    },
    {
      "cell_type": "markdown",
      "metadata": {},
      "source": [
        "#### Ok now let's write the function that uses our canonical_smiles feature and calculates the new features that we want to use from the RDKit library."
      ]
    },
    {
      "cell_type": "code",
      "execution_count": 4,
      "metadata": {},
      "outputs": [
        {
          "data": {
            "text/html": [
              "<div>\n",
              "<style scoped>\n",
              "    .dataframe tbody tr th:only-of-type {\n",
              "        vertical-align: middle;\n",
              "    }\n",
              "\n",
              "    .dataframe tbody tr th {\n",
              "        vertical-align: top;\n",
              "    }\n",
              "\n",
              "    .dataframe thead th {\n",
              "        text-align: right;\n",
              "    }\n",
              "</style>\n",
              "<table border=\"1\" class=\"dataframe\">\n",
              "  <thead>\n",
              "    <tr style=\"text-align: right;\">\n",
              "      <th></th>\n",
              "      <th>canonical_smiles</th>\n",
              "      <th>full_mwt</th>\n",
              "      <th>alogp</th>\n",
              "      <th>psa</th>\n",
              "      <th>hba_lipinski</th>\n",
              "      <th>hbd_lipinski</th>\n",
              "      <th>aromatic_rings</th>\n",
              "      <th>heavy_atoms</th>\n",
              "      <th>rtb</th>\n",
              "      <th>molecular_species</th>\n",
              "      <th>...</th>\n",
              "      <th>balaban_j</th>\n",
              "      <th>fraction_csp3</th>\n",
              "      <th>labute_asa</th>\n",
              "      <th>peoe_vsa1</th>\n",
              "      <th>peoe_vsa2</th>\n",
              "      <th>kappa1</th>\n",
              "      <th>kappa2</th>\n",
              "      <th>kappa3</th>\n",
              "      <th>chi0</th>\n",
              "      <th>chi1</th>\n",
              "    </tr>\n",
              "  </thead>\n",
              "  <tbody>\n",
              "    <tr>\n",
              "      <th>0</th>\n",
              "      <td>O=C1O/C(=C/Br)CCC1c1cccc2ccccc12</td>\n",
              "      <td>317.18</td>\n",
              "      <td>4.50</td>\n",
              "      <td>26.30</td>\n",
              "      <td>2</td>\n",
              "      <td>0</td>\n",
              "      <td>2</td>\n",
              "      <td>19</td>\n",
              "      <td>1</td>\n",
              "      <td>NEUTRAL</td>\n",
              "      <td>...</td>\n",
              "      <td>2.032678</td>\n",
              "      <td>0.187500</td>\n",
              "      <td>119.749901</td>\n",
              "      <td>4.736863</td>\n",
              "      <td>4.794537</td>\n",
              "      <td>12.425157</td>\n",
              "      <td>5.174545</td>\n",
              "      <td>2.302843</td>\n",
              "      <td>13.242276</td>\n",
              "      <td>9.292025</td>\n",
              "    </tr>\n",
              "    <tr>\n",
              "      <th>1</th>\n",
              "      <td>O=C1O/C(=C/I)CCC1c1cccc2ccccc12</td>\n",
              "      <td>364.18</td>\n",
              "      <td>4.54</td>\n",
              "      <td>26.30</td>\n",
              "      <td>2</td>\n",
              "      <td>0</td>\n",
              "      <td>2</td>\n",
              "      <td>19</td>\n",
              "      <td>1</td>\n",
              "      <td>NEUTRAL</td>\n",
              "      <td>...</td>\n",
              "      <td>2.032678</td>\n",
              "      <td>0.187500</td>\n",
              "      <td>125.144192</td>\n",
              "      <td>4.736863</td>\n",
              "      <td>4.794537</td>\n",
              "      <td>12.662582</td>\n",
              "      <td>5.327835</td>\n",
              "      <td>2.388698</td>\n",
              "      <td>13.242276</td>\n",
              "      <td>9.292025</td>\n",
              "    </tr>\n",
              "    <tr>\n",
              "      <th>2</th>\n",
              "      <td>C#C/C=C1\\CCC(c2cccc3ccccc23)C(=O)O1</td>\n",
              "      <td>262.31</td>\n",
              "      <td>3.78</td>\n",
              "      <td>26.30</td>\n",
              "      <td>2</td>\n",
              "      <td>0</td>\n",
              "      <td>2</td>\n",
              "      <td>20</td>\n",
              "      <td>1</td>\n",
              "      <td>NEUTRAL</td>\n",
              "      <td>...</td>\n",
              "      <td>1.988982</td>\n",
              "      <td>0.166667</td>\n",
              "      <td>117.611463</td>\n",
              "      <td>4.736863</td>\n",
              "      <td>4.794537</td>\n",
              "      <td>12.501099</td>\n",
              "      <td>5.223444</td>\n",
              "      <td>2.188684</td>\n",
              "      <td>13.949383</td>\n",
              "      <td>9.792025</td>\n",
              "    </tr>\n",
              "    <tr>\n",
              "      <th>3</th>\n",
              "      <td>COc1cc2nc(N3CCN(C(=O)C4CC4c4ccccc4)CC3)nc(N)c2...</td>\n",
              "      <td>433.51</td>\n",
              "      <td>2.68</td>\n",
              "      <td>93.81</td>\n",
              "      <td>8</td>\n",
              "      <td>2</td>\n",
              "      <td>3</td>\n",
              "      <td>32</td>\n",
              "      <td>5</td>\n",
              "      <td>NEUTRAL</td>\n",
              "      <td>...</td>\n",
              "      <td>1.273158</td>\n",
              "      <td>0.375000</td>\n",
              "      <td>186.495387</td>\n",
              "      <td>25.007213</td>\n",
              "      <td>4.794537</td>\n",
              "      <td>20.358115</td>\n",
              "      <td>8.180995</td>\n",
              "      <td>3.656405</td>\n",
              "      <td>22.241912</td>\n",
              "      <td>15.584050</td>\n",
              "    </tr>\n",
              "    <tr>\n",
              "      <th>4</th>\n",
              "      <td>COc1cc2nc(N3CCN(S(=O)(=O)c4cccs4)CC3)nc(N)c2cc1OC</td>\n",
              "      <td>435.53</td>\n",
              "      <td>1.80</td>\n",
              "      <td>110.88</td>\n",
              "      <td>9</td>\n",
              "      <td>2</td>\n",
              "      <td>3</td>\n",
              "      <td>29</td>\n",
              "      <td>5</td>\n",
              "      <td>NEUTRAL</td>\n",
              "      <td>...</td>\n",
              "      <td>1.582585</td>\n",
              "      <td>0.333333</td>\n",
              "      <td>172.281067</td>\n",
              "      <td>20.107303</td>\n",
              "      <td>0.000000</td>\n",
              "      <td>19.676288</td>\n",
              "      <td>7.653369</td>\n",
              "      <td>3.561938</td>\n",
              "      <td>20.595647</td>\n",
              "      <td>13.934220</td>\n",
              "    </tr>\n",
              "  </tbody>\n",
              "</table>\n",
              "<p>5 rows × 25 columns</p>\n",
              "</div>"
            ],
            "text/plain": [
              "                                    canonical_smiles  full_mwt  alogp     psa  \\\n",
              "0                   O=C1O/C(=C/Br)CCC1c1cccc2ccccc12    317.18   4.50   26.30   \n",
              "1                    O=C1O/C(=C/I)CCC1c1cccc2ccccc12    364.18   4.54   26.30   \n",
              "2                C#C/C=C1\\CCC(c2cccc3ccccc23)C(=O)O1    262.31   3.78   26.30   \n",
              "3  COc1cc2nc(N3CCN(C(=O)C4CC4c4ccccc4)CC3)nc(N)c2...    433.51   2.68   93.81   \n",
              "4  COc1cc2nc(N3CCN(S(=O)(=O)c4cccs4)CC3)nc(N)c2cc1OC    435.53   1.80  110.88   \n",
              "\n",
              "   hba_lipinski  hbd_lipinski  aromatic_rings  heavy_atoms  rtb  \\\n",
              "0             2             0               2           19    1   \n",
              "1             2             0               2           19    1   \n",
              "2             2             0               2           20    1   \n",
              "3             8             2               3           32    5   \n",
              "4             9             2               3           29    5   \n",
              "\n",
              "  molecular_species  ...  balaban_j  fraction_csp3  labute_asa  peoe_vsa1  \\\n",
              "0           NEUTRAL  ...   2.032678       0.187500  119.749901   4.736863   \n",
              "1           NEUTRAL  ...   2.032678       0.187500  125.144192   4.736863   \n",
              "2           NEUTRAL  ...   1.988982       0.166667  117.611463   4.736863   \n",
              "3           NEUTRAL  ...   1.273158       0.375000  186.495387  25.007213   \n",
              "4           NEUTRAL  ...   1.582585       0.333333  172.281067  20.107303   \n",
              "\n",
              "   peoe_vsa2     kappa1    kappa2    kappa3       chi0       chi1  \n",
              "0   4.794537  12.425157  5.174545  2.302843  13.242276   9.292025  \n",
              "1   4.794537  12.662582  5.327835  2.388698  13.242276   9.292025  \n",
              "2   4.794537  12.501099  5.223444  2.188684  13.949383   9.792025  \n",
              "3   4.794537  20.358115  8.180995  3.656405  22.241912  15.584050  \n",
              "4   0.000000  19.676288  7.653369  3.561938  20.595647  13.934220  \n",
              "\n",
              "[5 rows x 25 columns]"
            ]
          },
          "execution_count": 4,
          "metadata": {},
          "output_type": "execute_result"
        }
      ],
      "source": [
        "def rdkit_features(smiles):\n",
        "    mol = Chem.MolFromSmiles(smiles)\n",
        "    if mol is None:\n",
        "        return {}\n",
        "    return {\n",
        "        # Features for Structural Complexity\n",
        "        \"bertz_ct\" : GraphDescriptors.BertzCT(mol),\n",
        "        \"hallkier_alpha\" : Descriptors.HallKierAlpha(mol),\n",
        "        \"balaban_j\" : Descriptors.BalabanJ(mol),\n",
        "        \n",
        "        # Features for Shape\n",
        "        \"fraction_csp3\" : Descriptors.FractionCSP3(mol),\n",
        "        \n",
        "        # Features for Surface Area\n",
        "        \"labute_asa\" : Descriptors.LabuteASA(mol),\n",
        "        \"peoe_vsa1\" : Descriptors.PEOE_VSA1(mol),\n",
        "        \"peoe_vsa2\" : Descriptors.PEOE_VSA2(mol),\n",
        "        \n",
        "        # Features for Connectivity and Topology\n",
        "        \"kappa1\" : Descriptors.Kappa1(mol),\n",
        "        \"kappa2\" : Descriptors.Kappa2(mol),\n",
        "        \"kappa3\" : Descriptors.Kappa3(mol),\n",
        "        \"chi0\" : Descriptors.Chi0(mol),\n",
        "        \"chi1\" : Descriptors.Chi1(mol)\n",
        "    }\n",
        "\n",
        "# Now apply to our dataset.\n",
        "fe_df['rdkit_feats'] = fe_df['canonical_smiles'].apply(rdkit_features)\n",
        "rdkit_feats_df = pd.DataFrame(fe_df['rdkit_feats'].tolist())\n",
        "fe_df = pd.concat([fe_df, rdkit_feats_df], axis = 1)\n",
        "fe_df.drop(columns = ['rdkit_feats'], inplace = True)\n",
        "\n",
        "fe_df.head()"
      ]
    },
    {
      "cell_type": "markdown",
      "metadata": {},
      "source": [
        "#### Great now before we analyze our new data and format it let's encode our SMILES strings into Morgan fingerprints.  For reference, this converts the canonical_smiles strings into machine-readable (read numerical) format for modeling."
      ]
    },
    {
      "cell_type": "code",
      "execution_count": 5,
      "metadata": {},
      "outputs": [
        {
          "name": "stdout",
          "output_type": "stream",
          "text": [
            "<class 'rdkit.DataStructs.cDataStructs.ExplicitBitVect'>\n"
          ]
        },
        {
          "data": {
            "text/html": [
              "<div>\n",
              "<style scoped>\n",
              "    .dataframe tbody tr th:only-of-type {\n",
              "        vertical-align: middle;\n",
              "    }\n",
              "\n",
              "    .dataframe tbody tr th {\n",
              "        vertical-align: top;\n",
              "    }\n",
              "\n",
              "    .dataframe thead th {\n",
              "        text-align: right;\n",
              "    }\n",
              "</style>\n",
              "<table border=\"1\" class=\"dataframe\">\n",
              "  <thead>\n",
              "    <tr style=\"text-align: right;\">\n",
              "      <th></th>\n",
              "      <th>canonical_smiles</th>\n",
              "      <th>full_mwt</th>\n",
              "      <th>alogp</th>\n",
              "      <th>psa</th>\n",
              "      <th>hba_lipinski</th>\n",
              "      <th>hbd_lipinski</th>\n",
              "      <th>aromatic_rings</th>\n",
              "      <th>heavy_atoms</th>\n",
              "      <th>rtb</th>\n",
              "      <th>molecular_species</th>\n",
              "      <th>...</th>\n",
              "      <th>fraction_csp3</th>\n",
              "      <th>labute_asa</th>\n",
              "      <th>peoe_vsa1</th>\n",
              "      <th>peoe_vsa2</th>\n",
              "      <th>kappa1</th>\n",
              "      <th>kappa2</th>\n",
              "      <th>kappa3</th>\n",
              "      <th>chi0</th>\n",
              "      <th>chi1</th>\n",
              "      <th>morgan_fingerprints</th>\n",
              "    </tr>\n",
              "  </thead>\n",
              "  <tbody>\n",
              "    <tr>\n",
              "      <th>0</th>\n",
              "      <td>O=C1O/C(=C/Br)CCC1c1cccc2ccccc12</td>\n",
              "      <td>317.18</td>\n",
              "      <td>4.50</td>\n",
              "      <td>26.30</td>\n",
              "      <td>2</td>\n",
              "      <td>0</td>\n",
              "      <td>2</td>\n",
              "      <td>19</td>\n",
              "      <td>1</td>\n",
              "      <td>NEUTRAL</td>\n",
              "      <td>...</td>\n",
              "      <td>0.187500</td>\n",
              "      <td>119.749901</td>\n",
              "      <td>4.736863</td>\n",
              "      <td>4.794537</td>\n",
              "      <td>12.425157</td>\n",
              "      <td>5.174545</td>\n",
              "      <td>2.302843</td>\n",
              "      <td>13.242276</td>\n",
              "      <td>9.292025</td>\n",
              "      <td>[0, 0, 0, 0, 0, 0, 0, 0, 0, 0, 0, 0, 0, 0, 0, ...</td>\n",
              "    </tr>\n",
              "    <tr>\n",
              "      <th>1</th>\n",
              "      <td>O=C1O/C(=C/I)CCC1c1cccc2ccccc12</td>\n",
              "      <td>364.18</td>\n",
              "      <td>4.54</td>\n",
              "      <td>26.30</td>\n",
              "      <td>2</td>\n",
              "      <td>0</td>\n",
              "      <td>2</td>\n",
              "      <td>19</td>\n",
              "      <td>1</td>\n",
              "      <td>NEUTRAL</td>\n",
              "      <td>...</td>\n",
              "      <td>0.187500</td>\n",
              "      <td>125.144192</td>\n",
              "      <td>4.736863</td>\n",
              "      <td>4.794537</td>\n",
              "      <td>12.662582</td>\n",
              "      <td>5.327835</td>\n",
              "      <td>2.388698</td>\n",
              "      <td>13.242276</td>\n",
              "      <td>9.292025</td>\n",
              "      <td>[0, 0, 0, 0, 0, 0, 0, 0, 0, 0, 0, 0, 0, 0, 0, ...</td>\n",
              "    </tr>\n",
              "    <tr>\n",
              "      <th>2</th>\n",
              "      <td>C#C/C=C1\\CCC(c2cccc3ccccc23)C(=O)O1</td>\n",
              "      <td>262.31</td>\n",
              "      <td>3.78</td>\n",
              "      <td>26.30</td>\n",
              "      <td>2</td>\n",
              "      <td>0</td>\n",
              "      <td>2</td>\n",
              "      <td>20</td>\n",
              "      <td>1</td>\n",
              "      <td>NEUTRAL</td>\n",
              "      <td>...</td>\n",
              "      <td>0.166667</td>\n",
              "      <td>117.611463</td>\n",
              "      <td>4.736863</td>\n",
              "      <td>4.794537</td>\n",
              "      <td>12.501099</td>\n",
              "      <td>5.223444</td>\n",
              "      <td>2.188684</td>\n",
              "      <td>13.949383</td>\n",
              "      <td>9.792025</td>\n",
              "      <td>[0, 0, 0, 0, 0, 0, 0, 0, 0, 0, 0, 0, 0, 0, 0, ...</td>\n",
              "    </tr>\n",
              "    <tr>\n",
              "      <th>3</th>\n",
              "      <td>COc1cc2nc(N3CCN(C(=O)C4CC4c4ccccc4)CC3)nc(N)c2...</td>\n",
              "      <td>433.51</td>\n",
              "      <td>2.68</td>\n",
              "      <td>93.81</td>\n",
              "      <td>8</td>\n",
              "      <td>2</td>\n",
              "      <td>3</td>\n",
              "      <td>32</td>\n",
              "      <td>5</td>\n",
              "      <td>NEUTRAL</td>\n",
              "      <td>...</td>\n",
              "      <td>0.375000</td>\n",
              "      <td>186.495387</td>\n",
              "      <td>25.007213</td>\n",
              "      <td>4.794537</td>\n",
              "      <td>20.358115</td>\n",
              "      <td>8.180995</td>\n",
              "      <td>3.656405</td>\n",
              "      <td>22.241912</td>\n",
              "      <td>15.584050</td>\n",
              "      <td>[0, 0, 0, 0, 0, 0, 0, 0, 0, 0, 0, 0, 0, 0, 0, ...</td>\n",
              "    </tr>\n",
              "    <tr>\n",
              "      <th>4</th>\n",
              "      <td>COc1cc2nc(N3CCN(S(=O)(=O)c4cccs4)CC3)nc(N)c2cc1OC</td>\n",
              "      <td>435.53</td>\n",
              "      <td>1.80</td>\n",
              "      <td>110.88</td>\n",
              "      <td>9</td>\n",
              "      <td>2</td>\n",
              "      <td>3</td>\n",
              "      <td>29</td>\n",
              "      <td>5</td>\n",
              "      <td>NEUTRAL</td>\n",
              "      <td>...</td>\n",
              "      <td>0.333333</td>\n",
              "      <td>172.281067</td>\n",
              "      <td>20.107303</td>\n",
              "      <td>0.000000</td>\n",
              "      <td>19.676288</td>\n",
              "      <td>7.653369</td>\n",
              "      <td>3.561938</td>\n",
              "      <td>20.595647</td>\n",
              "      <td>13.934220</td>\n",
              "      <td>[0, 0, 0, 0, 0, 0, 0, 0, 0, 0, 0, 0, 0, 0, 1, ...</td>\n",
              "    </tr>\n",
              "  </tbody>\n",
              "</table>\n",
              "<p>5 rows × 26 columns</p>\n",
              "</div>"
            ],
            "text/plain": [
              "                                    canonical_smiles  full_mwt  alogp     psa  \\\n",
              "0                   O=C1O/C(=C/Br)CCC1c1cccc2ccccc12    317.18   4.50   26.30   \n",
              "1                    O=C1O/C(=C/I)CCC1c1cccc2ccccc12    364.18   4.54   26.30   \n",
              "2                C#C/C=C1\\CCC(c2cccc3ccccc23)C(=O)O1    262.31   3.78   26.30   \n",
              "3  COc1cc2nc(N3CCN(C(=O)C4CC4c4ccccc4)CC3)nc(N)c2...    433.51   2.68   93.81   \n",
              "4  COc1cc2nc(N3CCN(S(=O)(=O)c4cccs4)CC3)nc(N)c2cc1OC    435.53   1.80  110.88   \n",
              "\n",
              "   hba_lipinski  hbd_lipinski  aromatic_rings  heavy_atoms  rtb  \\\n",
              "0             2             0               2           19    1   \n",
              "1             2             0               2           19    1   \n",
              "2             2             0               2           20    1   \n",
              "3             8             2               3           32    5   \n",
              "4             9             2               3           29    5   \n",
              "\n",
              "  molecular_species  ...  fraction_csp3  labute_asa  peoe_vsa1  peoe_vsa2  \\\n",
              "0           NEUTRAL  ...       0.187500  119.749901   4.736863   4.794537   \n",
              "1           NEUTRAL  ...       0.187500  125.144192   4.736863   4.794537   \n",
              "2           NEUTRAL  ...       0.166667  117.611463   4.736863   4.794537   \n",
              "3           NEUTRAL  ...       0.375000  186.495387  25.007213   4.794537   \n",
              "4           NEUTRAL  ...       0.333333  172.281067  20.107303   0.000000   \n",
              "\n",
              "      kappa1    kappa2    kappa3       chi0       chi1  \\\n",
              "0  12.425157  5.174545  2.302843  13.242276   9.292025   \n",
              "1  12.662582  5.327835  2.388698  13.242276   9.292025   \n",
              "2  12.501099  5.223444  2.188684  13.949383   9.792025   \n",
              "3  20.358115  8.180995  3.656405  22.241912  15.584050   \n",
              "4  19.676288  7.653369  3.561938  20.595647  13.934220   \n",
              "\n",
              "                                 morgan_fingerprints  \n",
              "0  [0, 0, 0, 0, 0, 0, 0, 0, 0, 0, 0, 0, 0, 0, 0, ...  \n",
              "1  [0, 0, 0, 0, 0, 0, 0, 0, 0, 0, 0, 0, 0, 0, 0, ...  \n",
              "2  [0, 0, 0, 0, 0, 0, 0, 0, 0, 0, 0, 0, 0, 0, 0, ...  \n",
              "3  [0, 0, 0, 0, 0, 0, 0, 0, 0, 0, 0, 0, 0, 0, 0, ...  \n",
              "4  [0, 0, 0, 0, 0, 0, 0, 0, 0, 0, 0, 0, 0, 0, 1, ...  \n",
              "\n",
              "[5 rows x 26 columns]"
            ]
          },
          "execution_count": 5,
          "metadata": {},
          "output_type": "execute_result"
        }
      ],
      "source": [
        "# function to encode the morgan fingerprints, return empty array for invalid smiles data.\n",
        "\n",
        "# Initialize the Morgan Generator\n",
        "morgan_gen = GetMorganGenerator(radius = 2, fpSize = 2048) # for radius and bit size\n",
        "\n",
        "def encode_smiles_to_prints(smiles):\n",
        "    mol = Chem.MolFromSmiles(smiles)\n",
        "    if mol is None:\n",
        "        return None # Return None instead of an empty list\n",
        "    return morgan_gen.GetFingerprint(mol) # Keep as RDKit fingerprint\n",
        "\n",
        "# Similar process now for how we just did for the feature creation.\n",
        "fe_df['morgan_fingerprints'] = fe_df['canonical_smiles'].apply(encode_smiles_to_prints)\n",
        "\n",
        "# Check type to confirm\n",
        "print(type(fe_df['morgan_fingerprints'].iloc[0]))\n",
        "\n",
        "fe_df.head()"
      ]
    },
    {
      "cell_type": "markdown",
      "metadata": {},
      "source": [
        "#### We will need these raw fingerprints in the next stage, lets save them as a couple of variables."
      ]
    },
    {
      "cell_type": "code",
      "execution_count": 6,
      "metadata": {},
      "outputs": [
        {
          "name": "stdout",
          "output_type": "stream",
          "text": [
            "<class 'rdkit.DataStructs.cDataStructs.ExplicitBitVect'>\n"
          ]
        }
      ],
      "source": [
        "raw_fps = fe_df['morgan_fingerprints'].tolist()\n",
        "\n",
        "print(type(raw_fps[0]))\n"
      ]
    },
    {
      "cell_type": "markdown",
      "metadata": {},
      "source": [
        "#### Now a quick step we will do is make all of our new fingerprints into NumPy arrays.  This helps us utilize them in PCA (if needed) and our modeling."
      ]
    },
    {
      "cell_type": "code",
      "execution_count": 7,
      "metadata": {},
      "outputs": [
        {
          "name": "stdout",
          "output_type": "stream",
          "text": [
            "Number of rows with all-zero fingerprints: 0\n",
            "<class 'numpy.ndarray'>\n"
          ]
        }
      ],
      "source": [
        "# Convert the morgan_fingerprints column to a NumPy array\n",
        "fps = np.array(fe_df[\"morgan_fingerprints\"].tolist())\n",
        "\n",
        "# Check for all-zero fingerprints row-wise\n",
        "num_zero_fingerprints = np.sum(np.all(fps == 0, axis=1))\n",
        "\n",
        "print(f\"Number of rows with all-zero fingerprints: {num_zero_fingerprints}\")\n",
        "\n",
        "print(type(fps[0]))\n"
      ]
    },
    {
      "cell_type": "code",
      "execution_count": 8,
      "metadata": {},
      "outputs": [
        {
          "name": "stdout",
          "output_type": "stream",
          "text": [
            "0\n",
            "morgan_fingerprints\n",
            "<class 'rdkit.DataStructs.cDataStructs.ExplicitBitVect'>    343659\n",
            "Name: count, dtype: int64\n"
          ]
        }
      ],
      "source": [
        "# quick check for missing values\n",
        "print(fe_df[\"morgan_fingerprints\"].isnull().sum())\n",
        "print(fe_df[\"morgan_fingerprints\"].apply(type).value_counts())\n"
      ]
    },
    {
      "cell_type": "code",
      "execution_count": 9,
      "metadata": {},
      "outputs": [],
      "source": [
        "fe_df['morgan_fingerprints'] = fps"
      ]
    },
    {
      "cell_type": "markdown",
      "metadata": {},
      "source": [
        "#### At this point we will save our progress and create a new parquet file that we will call back in our EDA notebook, to continue our analysis.  "
      ]
    },
    {
      "cell_type": "code",
      "execution_count": 10,
      "metadata": {},
      "outputs": [
        {
          "name": "stdout",
          "output_type": "stream",
          "text": [
            "Feature engineering phase 1 data saved as Parquet in df_files in Data folder.\n"
          ]
        }
      ],
      "source": [
        "file_path = \"/home/azureuser/cloudfiles/code/Users/kalpha1865/BioPred/Data/df_files/feat_eng_1_phase_1.parquet\"\n",
        "fe_df.to_parquet(file_path, index = False)\n",
        "print(\"Feature engineering phase 1 data saved as Parquet in df_files in Data folder.\")"
      ]
    },
    {
      "cell_type": "markdown",
      "metadata": {},
      "source": [
        "#### We just finished preprocessing in the phase_1_eda ntbk with feature generation and filtering, adding some new features that correlate well with our target through looking at the mean.  Let's read in the current iteration of that df now."
      ]
    },
    {
      "cell_type": "code",
      "execution_count": 11,
      "metadata": {},
      "outputs": [
        {
          "data": {
            "text/plain": [
              "Index(['canonical_smiles', 'full_mwt', 'alogp', 'psa', 'hba_lipinski',\n",
              "       'hbd_lipinski', 'aromatic_rings', 'heavy_atoms', 'rtb',\n",
              "       'min_standard_value', 'tid', 'bertz_ct', 'hallkier_alpha', 'balaban_j',\n",
              "       'fraction_csp3', 'labute_asa', 'peoe_vsa1', 'peoe_vsa2', 'kappa1',\n",
              "       'kappa2', 'kappa3', 'chi0', 'chi1', 'morgan_fingerprints',\n",
              "       'tanimoto_mean', 'species_BASE', 'species_NEUTRAL',\n",
              "       'species_ZWITTERION', 'tanimoto_mean_target_mean',\n",
              "       'bertz_ct_target_mean', 'tid_target_mean', 'psa_target_mean',\n",
              "       'full_mwt_target_mean', 'labute_asa_target_mean', 'chi0_target_mean',\n",
              "       'hallkier_alpha_target_mean', 'kappa1_target_mean', 'chi1_target_mean',\n",
              "       'peoe_vsa1_target_mean'],\n",
              "      dtype='object')"
            ]
          },
          "execution_count": 11,
          "metadata": {},
          "output_type": "execute_result"
        }
      ],
      "source": [
        "file_path = \"/home/azureuser/cloudfiles/code/Users/kalpha1865/BioPred/Data/df_files/eda_2_phase_1.parquet\"\n",
        "feat_fil_df = pd.read_parquet(file_path)\n",
        "\n",
        "feat_fil_df.head()\n",
        "\n",
        "feat_fil_df.columns"
      ]
    },
    {
      "cell_type": "markdown",
      "metadata": {},
      "source": [
        "#### We will now look into feature filtering, looking into methods such as RFECV (Recursive Feature Elimination with Cross Validation), VIF (Variance Inflation Factor) and MI Scores (Mutual Information, which is a great complement to VIF as it shows which features predict on the target as a percent).  By starting with 37 features and scoping down, we will be able to use a focused set of features that through this filtering method we can see will help us before we go into our modeling stage so that it increases our metric output even further."
      ]
    },
    {
      "cell_type": "markdown",
      "metadata": {},
      "source": [
        "#### First we will start with the RFECV method, and as a note of clarification we are performing Cross-Validation with our RFE method as usually you specify how many features you want to retain through the process of feature elimination.  By including Cross-Validation into the RFE filtering method it does it FOR you, as well as providing a score just like if you were to use cross-validation on a model.  Let's take a look to see how this works."
      ]
    },
    {
      "cell_type": "code",
      "execution_count": 12,
      "metadata": {},
      "outputs": [
        {
          "name": "stdout",
          "output_type": "stream",
          "text": [
            "Optimal number of features: 34\n",
            "Selected features: ['full_mwt', 'alogp', 'psa', 'hba_lipinski', 'hbd_lipinski', 'aromatic_rings', 'heavy_atoms', 'rtb', 'tid', 'bertz_ct', 'hallkier_alpha', 'balaban_j', 'fraction_csp3', 'labute_asa', 'peoe_vsa1', 'peoe_vsa2', 'kappa1', 'kappa2', 'kappa3', 'chi0', 'chi1', 'species_BASE', 'species_NEUTRAL', 'species_ZWITTERION', 'bertz_ct_target_mean', 'tid_target_mean', 'psa_target_mean', 'full_mwt_target_mean', 'labute_asa_target_mean', 'chi0_target_mean', 'hallkier_alpha_target_mean', 'kappa1_target_mean', 'chi1_target_mean', 'peoe_vsa1_target_mean']\n"
          ]
        },
        {
          "data": {
            "image/png": "[encoded data removed]",
            "text/plain": [
              "<Figure size 1000x800 with 1 Axes>"
            ]
          },
          "metadata": {},
          "output_type": "display_data"
        }
      ],
      "source": [
        "# Set up our X,y for target variables from our current dataframe\n",
        "X = feat_fil_df.drop(columns = ['min_standard_value', 'canonical_smiles', 'morgan_fingerprints',\n",
        "                                'tanimoto_mean', 'tanimoto_mean_target_mean']) # Drop everything but our target\n",
        "y = feat_fil_df['min_standard_value']\n",
        "\n",
        "# Define and set up a base model to use RFECV\n",
        "model_xgb = XGBRegressor(\n",
        "    n_estimators = 300,\n",
        "    learning_rate = 0.05,\n",
        "    max_depth = 7,\n",
        "    min_child_weight = 5,\n",
        "    random_state = 42,\n",
        "    n_jobs=-1)\n",
        "\n",
        "cv = KFold(n_splits=5, shuffle=True, random_state=42)\n",
        "rfecv_xgb = RFECV(estimator=model_xgb, step = 0.5, scoring = 'r2', cv = cv)\n",
        "\n",
        "# Fit the RFECV\n",
        "rfecv_xgb.fit(X,y)\n",
        "\n",
        "# Extract the features\n",
        "selected_features_xgb = X.columns[rfecv_xgb.support_]\n",
        "print(f\"Optimal number of features: {rfecv_xgb.n_features_}\")\n",
        "print(f\"Selected features: {list(selected_features_xgb)}\")\n",
        "\n",
        "# Plot RFECV results\n",
        "plt.figure(figsize = (10,8))\n",
        "plt.xlabel(\"Number of features selected\")\n",
        "plt.ylabel(\"Cross-validation score (negative MSE)\")\n",
        "plt.title(\"RFECV - Feature Selection\")\n",
        "plt.plot(range(1, len(rfecv_xgb.cv_results_['mean_test_score']) + 1), rfecv_xgb.cv_results_['mean_test_score'])\n",
        "plt.show()\n",
        "\n"
      ]
    },
    {
      "cell_type": "code",
      "execution_count": 13,
      "metadata": {},
      "outputs": [
        {
          "data": {
            "image/png": "[encoded data removed]",
            "text/plain": [
              "<Figure size 1000x600 with 1 Axes>"
            ]
          },
          "metadata": {},
          "output_type": "display_data"
        }
      ],
      "source": [
        "#Retrain the model again with the selected features without the CV\n",
        "X_selected = X[selected_features_xgb].copy()\n",
        "X_selected = X_selected.reset_index(drop = True)\n",
        "\n",
        "X_selected_np = X_selected.to_numpy()\n",
        "\n",
        "final_xgb = XGBRegressor(\n",
        "    n_estimators=300,  \n",
        "    learning_rate=0.05,\n",
        "    max_depth=7,\n",
        "    min_child_weight=5,\n",
        "    random_state=42,\n",
        "    n_jobs=-1\n",
        ")\n",
        "\n",
        "final_xgb.fit(X_selected_np, y)\n",
        "\n",
        "# Now get feature importances from this second model\n",
        "importances = final_xgb.feature_importances_\n",
        "\n",
        "# Step 3: Plot Feature Importances from the FINAL trained model\n",
        "plt.figure(figsize=(10, 6))\n",
        "plt.barh(X_selected.columns, importances)\n",
        "plt.xlabel(\"Feature Importances\")\n",
        "plt.ylabel(\"Feature\")\n",
        "plt.title(\"XGBoost Feature Importance (Final Model)\")\n",
        "plt.show()"
      ]
    },
    {
      "cell_type": "markdown",
      "metadata": {},
      "source": []
    },
    {
      "cell_type": "code",
      "execution_count": 14,
      "metadata": {},
      "outputs": [
        {
          "data": {
            "text/plain": [
              "Index(['canonical_smiles', 'full_mwt', 'alogp', 'psa', 'hba_lipinski',\n",
              "       'hbd_lipinski', 'aromatic_rings', 'heavy_atoms', 'rtb',\n",
              "       'min_standard_value', 'tid', 'bertz_ct', 'hallkier_alpha', 'balaban_j',\n",
              "       'fraction_csp3', 'labute_asa', 'peoe_vsa1', 'peoe_vsa2', 'kappa1',\n",
              "       'kappa2', 'kappa3', 'chi0', 'chi1', 'morgan_fingerprints',\n",
              "       'tanimoto_mean', 'species_BASE', 'species_NEUTRAL',\n",
              "       'species_ZWITTERION', 'tanimoto_mean_target_mean',\n",
              "       'bertz_ct_target_mean', 'tid_target_mean', 'psa_target_mean',\n",
              "       'full_mwt_target_mean', 'labute_asa_target_mean', 'chi0_target_mean',\n",
              "       'hallkier_alpha_target_mean', 'kappa1_target_mean', 'chi1_target_mean',\n",
              "       'peoe_vsa1_target_mean'],\n",
              "      dtype='object')"
            ]
          },
          "execution_count": 14,
          "metadata": {},
          "output_type": "execute_result"
        }
      ],
      "source": [
        "feat_fil_df.columns"
      ]
    },
    {
      "cell_type": "code",
      "execution_count": 15,
      "metadata": {},
      "outputs": [
        {
          "name": "stdout",
          "output_type": "stream",
          "text": [
            "Modeling phase 1 data saved as Parquet in df_files in Data folder.\n"
          ]
        }
      ],
      "source": [
        "# Save the top features to a new df, remembering to add back in the ones we dropped earlier.\n",
        "ph1_df = feat_fil_df[['morgan_fingerprints', 'chi1_target_mean', 'min_standard_value',\n",
        "                'bertz_ct_target_mean', 'tid_target_mean', 'psa_target_mean',\n",
        "                'full_mwt_target_mean', 'labute_asa_target_mean', 'hba_lipinski',\n",
        "                'aromatic_rings', 'hallkier_alpha', 'peoe_vsa1_target_mean'\n",
        "                ]]\n",
        "\n",
        "file_path = \"/home/azureuser/cloudfiles/code/Users/kalpha1865/BioPred/Data/df_files/modeling_phase_1.parquet\"\n",
        "ph1_df.to_parquet(file_path, index = False)\n",
        "print(\"Modeling phase 1 data saved as Parquet in df_files in Data folder.\")"
      ]
    },
    {
      "cell_type": "code",
      "execution_count": 16,
      "metadata": {},
      "outputs": [
        {
          "name": "stdout",
          "output_type": "stream",
          "text": [
            "                                 morgan_fingerprints  chi1_target_mean  \\\n",
            "0  0000000000000000000000000000000000000000000000...              3.06   \n",
            "1  0000000000000000000000000000000000000000000000...              3.06   \n",
            "2  0000000000000000000000000000000000000000000000...              3.38   \n",
            "3  0000000000000000000000000000000000000000000000...              2.93   \n",
            "4  0000000000000010000000000000000000000000000000...              3.01   \n",
            "\n",
            "   min_standard_value  bertz_ct_target_mean  tid_target_mean  psa_target_mean  \\\n",
            "0                4.62                  3.68             3.32             3.32   \n",
            "1                3.43                  3.68             3.32             3.32   \n",
            "2                4.56                  4.56             3.32             3.32   \n",
            "3                0.41                  3.37             3.34             2.54   \n",
            "4                3.55                  1.74             3.34             2.65   \n",
            "\n",
            "   full_mwt_target_mean  labute_asa_target_mean  hba_lipinski  aromatic_rings  \\\n",
            "0                  4.62                    2.55             2               2   \n",
            "1                  4.34                    3.06             2               2   \n",
            "2                  3.19                    2.76             2               2   \n",
            "3                  3.00                    2.61             8               3   \n",
            "4                  3.23                    2.79             9               3   \n",
            "\n",
            "   hallkier_alpha  peoe_vsa1_target_mean  \n",
            "0           -1.61                   3.02  \n",
            "1           -1.36                   3.02  \n",
            "2           -2.53                   3.02  \n",
            "3           -3.55                   2.89  \n",
            "4           -2.63                   2.82  \n",
            "(343659, 12)\n"
          ]
        }
      ],
      "source": [
        "print(ph1_df.head())\n",
        "print(ph1_df.shape)"
      ]
    },
    {
      "cell_type": "code",
      "execution_count": null,
      "metadata": {},
      "outputs": [],
      "source": []
    },
    {
      "cell_type": "code",
      "execution_count": null,
      "metadata": {},
      "outputs": [],
      "source": []
    },
    {
      "cell_type": "code",
      "execution_count": null,
      "metadata": {},
      "outputs": [],
      "source": []
    },
    {
      "cell_type": "code",
      "execution_count": null,
      "metadata": {},
      "outputs": [],
      "source": []
    },
    {
      "cell_type": "code",
      "execution_count": null,
      "metadata": {},
      "outputs": [],
      "source": []
    },
    {
      "cell_type": "code",
      "execution_count": null,
      "metadata": {},
      "outputs": [],
      "source": []
    }
  ],
  "metadata": {
    "kernelspec": {
      "display_name": "Python 3.8 - AzureML",
      "language": "python",
      "name": "python38-azureml"
    },
    "language_info": {
      "codemirror_mode": {
        "name": "ipython",
        "version": 3
      },
      "file_extension": ".py",
      "mimetype": "text/x-python",
      "name": "python",
      "nbconvert_exporter": "python",
      "pygments_lexer": "ipython3",
      "version": "3.10.11"
    },
    "microsoft": {
      "ms_spell_check": {
        "ms_spell_check_language": "en"
      }
    },
    "nteract": {
      "version": "nteract-front-end@1.0.0"
    }
  },
  "nbformat": 4,
  "nbformat_minor": 2
}
